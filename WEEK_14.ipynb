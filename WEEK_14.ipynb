{
  "nbformat": 4,
  "nbformat_minor": 0,
  "metadata": {
    "colab": {
      "name": "WEEK 14",
      "provenance": [],
      "authorship_tag": "ABX9TyMkdUD6J8oEM2+D8SB+sZVJ",
      "include_colab_link": true
    },
    "kernelspec": {
      "name": "ir",
      "display_name": "R"
    }
  },
  "cells": [
    {
      "cell_type": "markdown",
      "metadata": {
        "id": "view-in-github",
        "colab_type": "text"
      },
      "source": [
        "<a href=\"https://colab.research.google.com/github/UnplugCharger/week-14/blob/master/WEEK_14.ipynb\" target=\"_parent\"><img src=\"https://colab.research.google.com/assets/colab-badge.svg\" alt=\"Open In Colab\"/></a>"
      ]
    },
    {
      "cell_type": "markdown",
      "metadata": {
        "id": "CwcwvtPBCIFa",
        "colab_type": "text"
      },
      "source": [
        "# Dimensionality Reduction"
      ]
    },
    {
      "cell_type": "markdown",
      "metadata": {
        "id": "HwnCYfibCYGf",
        "colab_type": "text"
      },
      "source": [
        "# Feature Selection in Unsupervised Learning"
      ]
    },
    {
      "cell_type": "markdown",
      "metadata": {
        "id": "fRvhuBuWCdQq",
        "colab_type": "text"
      },
      "source": [
        "# Association Analysis"
      ]
    },
    {
      "cell_type": "markdown",
      "metadata": {
        "id": "-c0ZFkRBChY0",
        "colab_type": "text"
      },
      "source": [
        "# Anomaly Detection"
      ]
    },
    {
      "cell_type": "code",
      "metadata": {
        "id": "bop8Ot4rCLCa",
        "colab_type": "code",
        "colab": {}
      },
      "source": [
        ""
      ],
      "execution_count": null,
      "outputs": []
    }
  ]
}